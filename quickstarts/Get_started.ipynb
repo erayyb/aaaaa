{
  "cells": [
    {
      "cell_type": "code",
      "source": [
        "len(\"eray\")"
      ],
      "metadata": {
        "colab": {
          "base_uri": "https://localhost:8080/"
        },
        "id": "6xb_BhfvrO6f",
        "outputId": "f3b1ad4f-345b-4be4-ae5a-997621be07c4"
      },
      "execution_count": 1,
      "outputs": [
        {
          "output_type": "execute_result",
          "data": {
            "text/plain": [
              "4"
            ]
          },
          "metadata": {},
          "execution_count": 1
        }
      ]
    },
    {
      "cell_type": "code",
      "source": [
        "masraf = 22 * (1.5+1.4)"
      ],
      "metadata": {
        "id": "-Lg4szeKrvwR"
      },
      "execution_count": 9,
      "outputs": []
    },
    {
      "cell_type": "code",
      "source": [
        "22 * (1.5+1.4)"
      ],
      "metadata": {
        "colab": {
          "base_uri": "https://localhost:8080/"
        },
        "id": "e8R_IaO1sWr8",
        "outputId": "af3f3e9b-0b6b-4aed-e103-68856a0f3f3f"
      },
      "execution_count": 14,
      "outputs": [
        {
          "output_type": "execute_result",
          "data": {
            "text/plain": [
              "63.8"
            ]
          },
          "metadata": {},
          "execution_count": 14
        }
      ]
    },
    {
      "cell_type": "code",
      "source": [
        "_ = masraf"
      ],
      "metadata": {
        "id": "TtQGtrzPtO-n"
      },
      "execution_count": 18,
      "outputs": []
    },
    {
      "cell_type": "code",
      "source": [
        "print(\"http://\", \"www.\", \"google.\", \"com\", sep=\" \")\n"
      ],
      "metadata": {
        "colab": {
          "base_uri": "https://localhost:8080/"
        },
        "id": "e9KLlQ87tRFo",
        "outputId": "7803617b-fd16-4bc7-dd7b-95664ce637b0"
      },
      "execution_count": 21,
      "outputs": [
        {
          "output_type": "stream",
          "name": "stdout",
          "text": [
            "http:// www. google. com\n"
          ]
        }
      ]
    },
    {
      "cell_type": "code",
      "source": [
        "deneme = open(\"deneme.txt\", \"w\")\n",
        "print(\"Bu bir deneme metnidir.\", file=deneme)\n",
        "print(\"Bu bir diğer denemedirrr.\", file=deneme, flush=\"True\")"
      ],
      "metadata": {
        "id": "5Y2rPcENxbcU"
      },
      "execution_count": 41,
      "outputs": []
    },
    {
      "cell_type": "code",
      "source": [
        "print(*\"Fenerbahçe\", sep=\",\")"
      ],
      "metadata": {
        "colab": {
          "base_uri": "https://localhost:8080/"
        },
        "id": "sdvlz87kx_Hm",
        "outputId": "fd6362ba-6bc4-4274-ff64-9ada20c0c79a"
      },
      "execution_count": 43,
      "outputs": [
        {
          "output_type": "stream",
          "name": "stdout",
          "text": [
            "F,e,n,e,r,b,a,h,ç,e\n"
          ]
        }
      ]
    }
  ],
  "metadata": {
    "colab": {
      "name": "Get_started.ipynb",
      "provenance": []
    },
    "kernelspec": {
      "display_name": "Python 3",
      "name": "python3"
    }
  },
  "nbformat": 4,
  "nbformat_minor": 0
}